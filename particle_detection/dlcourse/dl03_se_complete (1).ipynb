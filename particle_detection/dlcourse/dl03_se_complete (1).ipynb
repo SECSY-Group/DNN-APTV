{
 "cells": [
  {
   "cell_type": "markdown",
   "metadata": {
    "colab_type": "text",
    "id": "s7KglWQgn6lS"
   },
   "source": [
    "Deep Learning Lab 02 - Neural Network Basics\n",
    "# Implementing a Multi-layer Perceptron in NumPy"
   ]
  },
  {
   "cell_type": "markdown",
   "metadata": {
    "colab_type": "text",
    "id": "qjCeYQjBbTt6"
   },
   "source": [
    "## 0 - Packages\n",
    "At first, let's import all packages we will need today:\n",
    "\n",
    "- [numpy](www.numpy.org) remember our first lab: NumPy is the fundamental package for scientific computing with Python.\n",
    "- [matplotlib](http://matplotlib.org) is a library for plotting graphs in Python."
   ]
  },
  {
   "cell_type": "code",
   "execution_count": null,
   "metadata": {
    "colab": {},
    "colab_type": "code",
    "id": "-Izy9aiBbw7Z"
   },
   "outputs": [],
   "source": [
    "import numpy as np\n",
    "import matplotlib.pyplot as plt\n",
    "\n",
    "%matplotlib inline\n",
    "\n",
    "np.random.seed(42) # set a seed so that the results are consistent"
   ]
  },
  {
   "cell_type": "markdown",
   "metadata": {
    "colab_type": "text",
    "id": "h9fo1qGrT9_w"
   },
   "source": [
    "## 1 - Obtaining the Image Dataset"
   ]
  },
  {
   "cell_type": "markdown",
   "metadata": {
    "colab_type": "text",
    "id": "Q8TNYq0uopKY"
   },
   "source": [
    "Execute the code below for downloading the dataset to `/tmp/binary_flowers.npz`:"
   ]
  },
  {
   "cell_type": "code",
   "execution_count": null,
   "metadata": {
    "cellView": "form",
    "colab": {},
    "colab_type": "code",
    "id": "F1C-RnD1UtMj"
   },
   "outputs": [],
   "source": [
    "#@title Download Dataset\n",
    "import requests\n",
    "\n",
    "def download_file_from_google_drive(id, destination):\n",
    "    URL = \"https://docs.google.com/uc?export=download\"\n",
    "    session = requests.Session()\n",
    "    response = session.get(URL, params = { 'id' : id }, stream = True)\n",
    "    token = get_confirm_token(response)\n",
    "    if token:\n",
    "        params = { 'id' : id, 'confirm' : token }\n",
    "        response = session.get(URL, params = params, stream = True)\n",
    "    save_response_content(response, destination)\n",
    "\n",
    "def get_confirm_token(response):\n",
    "    for key, value in response.cookies.items():\n",
    "        if key.startswith('download_warning'):\n",
    "            return value\n",
    "    return None\n",
    "\n",
    "def save_response_content(response, destination):\n",
    "    CHUNK_SIZE = 32768\n",
    "    with open(destination, \"wb\") as f:\n",
    "        for chunk in response.iter_content(CHUNK_SIZE):\n",
    "            if chunk: # filter out keep-alive new chunks\n",
    "                f.write(chunk)\n",
    "\n",
    "download_file_from_google_drive('1BoDcLIEqfb9qD5VJBKr4BhArluPyOBrh', '/tmp/binary_flowers.npz')"
   ]
  },
  {
   "cell_type": "markdown",
   "metadata": {
    "colab_type": "text",
    "id": "SPJtpEXUXWIq"
   },
   "source": [
    "The dataset is provided as archive of numpy arrays, each stored as binary file. We'll unpack them to `X_train, y_train, X_test, y_test`:"
   ]
  },
  {
   "cell_type": "code",
   "execution_count": null,
   "metadata": {
    "colab": {},
    "colab_type": "code",
    "id": "U4LAeQGhVY76"
   },
   "outputs": [],
   "source": [
    "with np.load('/tmp/binary_flowers.npz') as data:\n",
    "    X_train, y_train, X_test, y_test = [ data[key] for key in ['X_train', 'y_train', 'X_test', 'y_test'] ]\n",
    "\n",
    "#print(' {} training and {} test samples loaded.'.format(y_train.size, y_test.size))\n",
    "\n",
    "# reshaping\n",
    "X_train.shape = (X_train.shape[0], np.product( X_train.shape[1:]))\n",
    "X_train = X_train.T\n",
    "X_test.shape = (X_test.shape[0], np.product( X_test.shape[1:]))\n",
    "X_test = X_test.T"
   ]
  },
  {
   "cell_type": "markdown",
   "metadata": {
    "colab_type": "text",
    "id": "kER-FRHybzWP"
   },
   "source": [
    "## 2 - Implementing a 2 Layer Neural Network\n",
    "\n",
    "Let's get started implementing our neural network.\n",
    "\n",
    "**Exercise**: The code below contains several `# TODO`s. Fix them based on our discussion.\n"
   ]
  },
  {
   "cell_type": "code",
   "execution_count": null,
   "metadata": {
    "colab": {},
    "colab_type": "code",
    "id": "-cg40CVgYpK4"
   },
   "outputs": [],
   "source": [
    "import sys\n",
    "\n",
    "class NeuralNet():\n",
    "  '''Feed-forward neural network with 1 hidden layer\n",
    "\n",
    "  Parameters\n",
    "  ------------\n",
    "  n_hidden : int (default:10)\n",
    "  l2_lambda : float (default: .01)\n",
    "        Lambda value for L2-regularization.\n",
    "  epochs : int (default: 20)\n",
    "        Number of runs over the complete training set.\n",
    "  alpha : float (default: .001)\n",
    "        Learning rate\n",
    "  shuffle : bool (default: True)\n",
    "        If true, training data is shuffled every epoch.\n",
    "  minibatch_size : int (default: 1)\n",
    "      Number of training samples per minibatch.\n",
    "  seed : int (default: None)\n",
    "      Random seed for initializing weights and shuffling.\n",
    "\n",
    "  Attributes\n",
    "  ------------\n",
    "  eval_ : dict\n",
    "    Dictionary collecting the cost, training accuracy,\n",
    "    and validation accuracy for every training epoch.\n",
    "  '''\n",
    "\n",
    "  def __init__(self, n_hidden=10,\n",
    "               l2_lambda=.01, epochs=20, \n",
    "               alpha=.001, shuffle=True,\n",
    "               minibatch_size=1, seed=None):\n",
    "    \n",
    "    self.random = np.random.RandomState(seed)\n",
    "    self.n_hidden = n_hidden\n",
    "    self.l2_lambda = l2_lambda\n",
    "    self.epochs = epochs\n",
    "    self.alpha = alpha\n",
    "    self.shuffle = shuffle\n",
    "    self.minibatch_size = minibatch_size\n",
    "    self._number_of_parameters = None\n",
    "\n",
    "  def _sigmoid(self, z):\n",
    "    '''Compute sigmoid (logistic) function'''\n",
    "    return 1./(1 + np.exp(-z)) # TODO\n",
    "\n",
    "  def initialize_weights(self, n_features):\n",
    "    '''Initialize weights of the hidden and output layer\n",
    "\n",
    "    Parameters\n",
    "    ------------\n",
    "    n_features : int\n",
    "        Number of input features.\n",
    "    '''\n",
    "    # Weights of the hidden layer\n",
    "    self.b1 = np.zeros( (self.n_hidden, 1) )\n",
    "    self.W1 = np.random.normal( scale=.1,\n",
    "                               size=(self.n_hidden, n_features))\n",
    "    \n",
    "    # Weights of the output layer\n",
    "    self.b2 = np.zeros( (1, 1) )\n",
    "    self.W2 = np.random.normal( scale=.1,\n",
    "                               size=(1, self.n_hidden))\n",
    "    \n",
    "    print('Network initialized. Total number of parameters: {}'.format(self.number_of_parameters))\n",
    "\n",
    "  def _forward(self, X):\n",
    "    '''Compute forward propagation step'''\n",
    "\n",
    "    # step 1: net input of hidden layer\n",
    "    # (n_hidden, n_features) dot (n_features, n_samples) => (n_hidden, n_samples)\n",
    "    Z1 = np.dot( self.W1, X ) + self.b1\n",
    "\n",
    "    # step 2: activation of hidden layer\n",
    "    A1 = self._sigmoid( Z1 )\n",
    "\n",
    "    # step 3: net input of output layer\n",
    "    # (n_output, n_hidden) dot (n_hidden, n_samples) => (n_output, n_samples)\n",
    "    Z2 = np.dot( self.W2, A1 ) + self.b2\n",
    "\n",
    "    # step 4: activation of output layer\n",
    "    A2 = self._sigmoid( Z2 )\n",
    "\n",
    "    # compare output shape\n",
    "    assert( A2.shape == (1, X.shape[1]) ), 'Incompatible output shape: {}'.format(A2.shape)\n",
    "\n",
    "    return Z1, A1, Z2, A2\n",
    "\n",
    "  def predict(self, X):\n",
    "    '''Predict class labels\n",
    "    \n",
    "    Parameters\n",
    "    ------------\n",
    "    X : array, shape = (n_features, n_samples)\n",
    "        Original input features.\n",
    "        \n",
    "    Returns\n",
    "    ---------\n",
    "    y_prediction : array, shape = (n_samples)\n",
    "        Predicted boolean label.\n",
    "    '''\n",
    "    _, _, _, A2 = self._forward(X)\n",
    "    y_prediction = np.round( A2 )\n",
    "\n",
    "    return y_prediction\n",
    "\n",
    "  def _compute_cost(self, y, output):\n",
    "    '''Compute the cost function.\n",
    "\n",
    "    Parameters\n",
    "    ------------\n",
    "    y : array, shape = (n_samples,)\n",
    "        Array of binary labels.\n",
    "    output : array, shape = (n_samples,)\n",
    "        Activation of the output layer.\n",
    "\n",
    "    Returns\n",
    "    ---------\n",
    "    cost : float\n",
    "        (Regularized) cost of the output.\n",
    "    '''\n",
    "\n",
    "    L2_term = ( self.l2_lambda * \n",
    "               (np.sum(self.W1 ** 2.) + \n",
    "                np.sum(self.W2 ** 2.)) )\n",
    "    \n",
    "    cost = - np.mean( y * np.log(output) + (1 - y) * np.log(1 - output) ) + L2_term\n",
    "\n",
    "    return cost\n",
    "    \n",
    "  def plot_loss(self):\n",
    "    if not hasattr(self, 'eval_'):\n",
    "      print('No evaluation history found. Run `.fit` to train your model.')\n",
    "      return\n",
    "    plt.plot(range(self.epochs), self.eval_['cost'])\n",
    "    plt.ylabel('Cost')\n",
    "    plt.xlabel('Epochs')\n",
    "    plt.show()\n",
    "\n",
    "  def plot_accuracy(self):\n",
    "    if not hasattr(self, 'eval_'):\n",
    "      print('No evaluation history found. Run `.fit` to train your model.')\n",
    "      return\n",
    "    plt.plot(range(self.epochs), self.eval_['train_acc'], \n",
    "         label='training')\n",
    "    plt.plot(range(self.epochs), self.eval_['valid_acc'], \n",
    "            label='validation', linestyle='--')\n",
    "    plt.ylabel('Accuracy')\n",
    "    plt.xlabel('Epochs')\n",
    "    plt.legend()\n",
    "    plt.show()\n",
    "\n",
    "  @property\n",
    "  def number_of_parameters(self):\n",
    "    if hasattr(self, 'w_hidden'):\n",
    "      self._number_of_parameters = np.sum([layer.size for layer in (\n",
    "          self.W1, self.b1, self.W2, self.b2)])\n",
    "    else:\n",
    "      print('No network parameters found.')\n",
    "    return self._number_of_parameters\n",
    "\n",
    "  def fit(self, X_train, y_train, X_valid, y_valid):\n",
    "    '''Learn weights from training data.\n",
    "\n",
    "    Parameters\n",
    "    ------------\n",
    "    X_train : array, shape = (n_features, n_samples)\n",
    "        Original input features for training.\n",
    "    y_train : array, shape = (n_samples,)\n",
    "        Array of binary labels for training.\n",
    "    X_valid : array, shape = (n_features, n_samples)\n",
    "        Original input features for validation.\n",
    "    y_valid : array, shape = (n_samples,)\n",
    "        Array of binary labels for validation.\n",
    "\n",
    "    Returns\n",
    "    ---------\n",
    "    self\n",
    "    '''\n",
    "\n",
    "    print()\n",
    "    \n",
    "    n_output = 1\n",
    "    n_features = X_train.shape[0]\n",
    "\n",
    "    self.initialize_weights(n_features)\n",
    "\n",
    "    epoch_strlen = len(str(self.epochs))  # for progress formatting\n",
    "    self.eval_ = {'cost': [], 'train_acc': [], 'valid_acc': []}\n",
    "\n",
    "    # iterate over training epochs\n",
    "    for i in range(self.epochs): # TODO 1\n",
    "\n",
    "      # iterate over minibatches\n",
    "      indices = np.arange(X_train.shape[1])\n",
    "\n",
    "      if self.shuffle:\n",
    "        self.random.shuffle(indices) # TODO 2\n",
    "\n",
    "      for start_idx in range(0, indices.shape[0] - self.minibatch_size + 1, self.minibatch_size):\n",
    "        batch_idx = indices[start_idx:start_idx + self.minibatch_size]\n",
    "\n",
    "        # forward propagation\n",
    "        # TODO 3\n",
    "        Z1, A1, Z2, A2 = self._forward(X_train[:, batch_idx])\n",
    "\n",
    "        ### backpropagation ###\n",
    "\n",
    "        # (n_output, n_samples)\n",
    "        # TODO 4\n",
    "        dZ2 = A2 - y_train[batch_idx]\n",
    "\n",
    "        # (n_output, n_samples) dot (n_samples, n_hidden) => (n_output, n_hidden)\n",
    "        # TODO 5\n",
    "        dW2 = np.dot( dZ2, A1.T )\n",
    "\n",
    "        # sum(sigma_output) => (n_output,)\n",
    "        # TODO 6\n",
    "        db2 = np.sum( dZ2, axis=1 )\n",
    "\n",
    "        # (n_hidden, n_samples)\n",
    "        # TODO 7\n",
    "        dA1dZ1 = A1 * (1. - A1)\n",
    "\n",
    "        # (n_hidden, n_output) dot (n_output, n_samples) => (n_hidden, n_samples)\n",
    "        # TODO 8\n",
    "        dZ1 = np.dot( self.W2.T, dZ2 ) * dA1dZ1\n",
    "\n",
    "        # (n_hidden, n_samples) dot (n_samples, n_features) => (n_hidden, n_features)\n",
    "        # TODO 9\n",
    "        dW1 = np.dot( dZ1, X_train[:, batch_idx].T )\n",
    "\n",
    "        # sum(sigma_hidden) => (n_hidden,)\n",
    "        # TODO 10\n",
    "        db1 = np.sum( dZ1, axis=1, keepdims=True )\n",
    "\n",
    "        # regularization\n",
    "        dW2 += self.l2_lambda * self.W2\n",
    "        dW1 += self.l2_lambda * self.W1\n",
    "\n",
    "        ### weight updates ###\n",
    "        # TODO 11\n",
    "        self.W2 -= self.alpha * dW2\n",
    "        self.b2 -= self.alpha * db2\n",
    "\n",
    "        self.W1 -= self.alpha * dW1\n",
    "        self.b1 -= self.alpha * db1\n",
    "\n",
    "      ### evaluation ###\n",
    "\n",
    "      # eval after each epoch during training\n",
    "      Z1, A1, Z2, A2 = self._forward(X_train)\n",
    "      cost = self._compute_cost( y=y_train, output=A2 )\n",
    "\n",
    "      y_train_pred = self.predict(X_train)\n",
    "      y_valid_pred = self.predict(X_valid)\n",
    "\n",
    "      train_acc = np.mean( y_train == y_train_pred )\n",
    "      valid_acc = np.mean( y_valid == y_valid_pred )\n",
    "\n",
    "      sys.stderr.write('\\rProgress: {}/{} | '.format(i+1, self.epochs) + \\\n",
    "                             'Cost: {:.2f} | '.format(cost) + \\\n",
    "                             'Train/Valid Acc.: {:.2f}%/{:.2f}% '.format(train_acc*100, valid_acc*100))\n",
    "      \n",
    "      sys.stderr.flush()\n",
    "\n",
    "      self.eval_['cost'].append(cost)\n",
    "      self.eval_['train_acc'].append(train_acc)\n",
    "      self.eval_['valid_acc'].append(valid_acc)\n",
    "  \n",
    "    return self\n"
   ]
  },
  {
   "cell_type": "markdown",
   "metadata": {
    "colab_type": "text",
    "id": "at1-K3JgqHR5"
   },
   "source": [
    "## 3 - Training and Evaluation\n",
    "Now it's time to finally train your network. Create a network with 10 neurons in the hidden layer. Then train it for 100 epochs with a minibatch size of 100 using the `.fit()` method:"
   ]
  },
  {
   "cell_type": "code",
   "execution_count": 51,
   "metadata": {
    "colab": {
     "base_uri": "https://localhost:8080/",
     "height": 85
    },
    "colab_type": "code",
    "id": "oIOzlSHxqHR9",
    "outputId": "dac91391-0fea-4585-b280-4a693522b1ec"
   },
   "outputs": [
    {
     "name": "stdout",
     "output_type": "stream",
     "text": [
      "\n",
      "No network parameters found.\n",
      "Network initialized. Total number of parameters: None\n"
     ]
    },
    {
     "name": "stderr",
     "output_type": "stream",
     "text": [
      "Progress: 10/10 | Cost: 12.86 | Train/Valid Acc.: 75.72%/84.00% "
     ]
    },
    {
     "data": {
      "text/plain": [
       "<__main__.NeuralNet at 0x7fc264dbe748>"
      ]
     },
     "execution_count": 51,
     "metadata": {
      "tags": []
     },
     "output_type": "execute_result"
    }
   ],
   "source": [
    "# TODO 12\n",
    "my_NN = NeuralNet(n_hidden=10, minibatch_size=100, epochs=10, shuffle=True)\n",
    "my_NN.fit(X_train=X_train, X_valid=X_test, y_train=y_train, y_valid=y_test)"
   ]
  },
  {
   "cell_type": "markdown",
   "metadata": {
    "colab_type": "text",
    "id": "S1bKgUZmqHSA"
   },
   "source": [
    "We can use `.predict()` method on the test data in order to finally evaluate the performance of our network:"
   ]
  },
  {
   "cell_type": "code",
   "execution_count": 52,
   "metadata": {
    "colab": {
     "base_uri": "https://localhost:8080/",
     "height": 34
    },
    "colab_type": "code",
    "id": "DiaWk7M1qHSB",
    "outputId": "a05df88e-3491-492c-e527-9a8d2a64bc42"
   },
   "outputs": [
    {
     "name": "stdout",
     "output_type": "stream",
     "text": [
      "Accuracy: 84.0%\n"
     ]
    }
   ],
   "source": [
    "predictions = my_NN.predict(X_test)\n",
    "print('Accuracy: {:.1f}%'.format( np.mean(y_test == predictions)*100 ))"
   ]
  },
  {
   "cell_type": "markdown",
   "metadata": {
    "colab_type": "text",
    "id": "KyQaE-q9qHSE"
   },
   "source": [
    "During training, we stored the loss and the training and validation accuracy of the network after each epoch. Our `.plot_loss()` method uses this data for plotting the learning curve:"
   ]
  },
  {
   "cell_type": "code",
   "execution_count": 53,
   "metadata": {
    "colab": {
     "base_uri": "https://localhost:8080/",
     "height": 279
    },
    "colab_type": "code",
    "id": "_rQlNoM_qHSE",
    "outputId": "8eb808cc-607b-4cd7-ed9c-0168e324952c"
   },
   "outputs": [
    {
     "data": {
      "image/png": "[encoded data removed]",
      "text/plain": [
       "<Figure size 432x288 with 1 Axes>"
      ]
     },
     "metadata": {
      "tags": []
     },
     "output_type": "display_data"
    }
   ],
   "source": [
    "my_NN.plot_loss()"
   ]
  },
  {
   "cell_type": "markdown",
   "metadata": {
    "colab_type": "text",
    "id": "abtsqP76qHSK"
   },
   "source": [
    "With `.plot_accuracy()` we can plot the accuracy achieved on both training and validation set after each epoch:"
   ]
  },
  {
   "cell_type": "code",
   "execution_count": 54,
   "metadata": {
    "colab": {
     "base_uri": "https://localhost:8080/",
     "height": 280
    },
    "colab_type": "code",
    "id": "W_IxLi5zqHSM",
    "outputId": "68d7be00-8770-477f-8096-ed8a3b2a961b"
   },
   "outputs": [
    {
     "data": {
      "image/png": "[encoded data removed]",
      "text/plain": [
       "<Figure size 432x288 with 1 Axes>"
      ]
     },
     "metadata": {
      "tags": []
     },
     "output_type": "display_data"
    }
   ],
   "source": [
    "my_NN.plot_accuracy()"
   ]
  },
  {
   "cell_type": "markdown",
   "metadata": {
    "colab_type": "text",
    "id": "31qJmXqAqHSP"
   },
   "source": [
    "## Congratulations!\n",
    "You've just coded your own neural network in NumPy and trained it to recognize flowers in images! You may play a litte with the hyperparameters, e.g., set the learning rate `alpha` to `0.0003` and increase the hidden layer size `n_hidden`.\n",
    "To also classify the type of flower from an image, you may continue with the next assignment. Have fun and much success!"
   ]
  }
 ],
 "metadata": {
  "colab": {
   "collapsed_sections": [],
   "name": "dl03-se_complete",
   "provenance": []
  },
  "kernelspec": {
   "display_name": "Python 3",
   "language": "python",
   "name": "python3"
  },
  "language_info": {
   "codemirror_mode": {
    "name": "ipython",
    "version": 3
   },
   "file_extension": ".py",
   "mimetype": "text/x-python",
   "name": "python",
   "nbconvert_exporter": "python",
   "pygments_lexer": "ipython3",
   "version": "3.5.2"
  }
 },
 "nbformat": 4,
 "nbformat_minor": 2
}
