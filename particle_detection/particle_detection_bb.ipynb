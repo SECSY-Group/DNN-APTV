{
 "cells": [
  {
   "cell_type": "code",
   "execution_count": null,
   "metadata": {},
   "outputs": [],
   "source": [
    "# Copyright 2020 TU Ilmenau. All Rights Reserved.\n",
    "#\n",
    "# Code for the Particle detection baseline for the \n",
    "# On the use of a cascaded convolutional neural network for three-dimensional flow measurements using astigmatic PTV task.\n"
   ]
  },
  {
   "cell_type": "code",
   "execution_count": 1,
   "metadata": {},
   "outputs": [],
   "source": [
    "import numpy as np\n",
    "import os\n",
    "import six.moves.urllib as urllib\n",
    "import sys\n",
    "import tarfile\n",
    "import tensorflow as tf\n",
    "import zipfile\n",
    "import glob\n",
    "\n",
    "from distutils.version import StrictVersion\n",
    "from collections import defaultdict\n",
    "\n",
    "from io import StringIO\n",
    "from matplotlib import pyplot as plt\n",
    "from PIL import Image\n",
    "\n",
    "# This is needed since the notebook is stored in the object_detection folder.\n",
    "sys.path.append(\"..\")\n",
    "from object_detection.utils import ops as utils_ops\n",
    "\n",
    "if StrictVersion(tf.__version__) < StrictVersion('1.12.0'):\n",
    "  raise ImportError('Please upgrade your TensorFlow installation to v1.12.*.')\n",
    "os.environ[\"CUDA_DEVICE_ORDER\"]=\"PCI_BUS_ID\"\n",
    "os.environ[\"CUDA_VISIBLE_DEVICES\"]=\"0\" \n"
   ]
  },
  {
   "cell_type": "code",
   "execution_count": 2,
   "metadata": {},
   "outputs": [],
   "source": [
    "# This is needed to display the images.\n",
    "%matplotlib inline"
   ]
  },
  {
   "cell_type": "code",
   "execution_count": 3,
   "metadata": {},
   "outputs": [],
   "source": [
    "from utils import label_map_util\n",
    "\n",
    "from utils import visualization_utils as vis_util"
   ]
  },
  {
   "cell_type": "code",
   "execution_count": 4,
   "metadata": {},
   "outputs": [],
   "source": [
    "\n",
    "MODEL_NAME = ''\n",
    "# Path to frozen detection graph. This is the actual model that is used for the object detection.\n",
    "PATH_TO_FROZEN_GRAPH = MODEL_NAME + ''\n",
    "\n",
    "# List of the strings that is used to add correct label for each box.\n",
    "PATH_TO_LABELS = os.path.join('data', 'particle_classes_label_map.pbtxt')\n",
    "NUM_CLASSES = 1"
   ]
  },
  {
   "cell_type": "code",
   "execution_count": 5,
   "metadata": {},
   "outputs": [],
   "source": [
    "detection_graph = tf.Graph()\n",
    "with detection_graph.as_default():\n",
    "  od_graph_def = tf.GraphDef()\n",
    "  with tf.gfile.GFile(PATH_TO_FROZEN_GRAPH, 'rb') as fid:\n",
    "    serialized_graph = fid.read()\n",
    "    od_graph_def.ParseFromString(serialized_graph)\n",
    "    tf.import_graph_def(od_graph_def, name='')"
   ]
  },
  {
   "cell_type": "code",
   "execution_count": 6,
   "metadata": {},
   "outputs": [],
   "source": [
    "category_index = label_map_util.create_category_index_from_labelmap(PATH_TO_LABELS, use_display_name=True)"
   ]
  },
  {
   "cell_type": "code",
   "execution_count": 7,
   "metadata": {},
   "outputs": [],
   "source": [
    "def load_image_into_numpy_array(image):\n",
    "  (im_width, im_height) = image.size\n",
    "  return np.array(image.getdata()).reshape(\n",
    "      (im_height, im_width, 3)).astype(np.uint8)"
   ]
  },
  {
   "cell_type": "code",
   "execution_count": 8,
   "metadata": {},
   "outputs": [],
   "source": [
    "#path to the images to the TEST_IMAGE_PATHS.\n",
    "PATH_TO_TEST_IMAGES_DIR = ''\n",
    "TEST_IMAGE_PATHS = glob.glob(os.path.join(PATH_TO_TEST_IMAGES_DIR, '*.png'))\n",
    "[TEST_IMAGE_PATHS.remove(x) for x in list(reversed(TEST_IMAGE_PATHS)) if x.find('_bb')!=-1]\n",
    "# Size, in inches, of the output images.\n",
    "IMAGE_SIZE = (2560, 2160)"
   ]
  },
  {
   "cell_type": "code",
   "execution_count": 9,
   "metadata": {},
   "outputs": [],
   "source": [
    "import pandas as pd\n",
    "TBL_FILENAME='FIlE_ID'\n",
    "TBL_XMIN='xmin'\n",
    "TBL_YMIN='ymin'\n",
    "TBL_XMAX='xmax'\n",
    "TBL_YMAX='ymax'\n",
    "TBL_HEADER=[TBL_FILENAME,TBL_XMIN,TBL_YMIN,TBL_XMAX,TBL_YMAX]\n",
    "CSV_BASEDIR = ''\n",
    "df=pd.read_csv(os.path.join(CSV_BASEDIR, ''),sep=',', names=TBL_HEADER)\n",
    "\n",
    "\n",
    "fname_list=[]\n",
    "class_list=[]\n",
    "xmin_list=[]\n",
    "ymin_list=[]\n",
    "xmax_list=[]\n",
    "ymax_list=[]\n"
   ]
  },
  {
   "cell_type": "code",
   "execution_count": null,
   "metadata": {},
   "outputs": [],
   "source": [
    "with detection_graph.as_default():\n",
    "  with tf.Session(graph=detection_graph) as sess:\n",
    "    # Definite input and output Tensors for detection_graph\n",
    "    image_tensor = detection_graph.get_tensor_by_name('image_tensor:0')\n",
    "    # Each box represents a part of the image where a particular object was detected.\n",
    "    detection_boxes = detection_graph.get_tensor_by_name('detection_boxes:0')\n",
    "    # Each score represent how level of confidence for each of the objects.\n",
    "    # Score is shown on the result image, together with the class label.\n",
    "    detection_scores = detection_graph.get_tensor_by_name('detection_scores:0')\n",
    "    detection_classes = detection_graph.get_tensor_by_name('detection_classes:0')\n",
    "    num_detections = detection_graph.get_tensor_by_name('num_detections:0')\n",
    "    for image_path in TEST_IMAGE_PATHS:\n",
    "      image = Image.open(image_path)\n",
    "      # the array based representation of the image will be used later in order to prepare the\n",
    "      # result image with boxes and labels on it.\n",
    "      image_np = load_image_into_numpy_array(image)\n",
    "      # Expand dimensions since the model expects images to have shape: [1, None, None, 3]\n",
    "      image_np_expanded = np.expand_dims(image_np, axis=0)\n",
    "      # Actual detection.\n",
    "      (boxes, scores, classes, num) = sess.run(\n",
    "          [detection_boxes, detection_scores, detection_classes, num_detections],\n",
    "          feed_dict={image_tensor: image_np_expanded})\n",
    "      # Visualization of the results of a detection.\n",
    "      vis_util.visualize_boxes_and_labels_on_image_array(\n",
    "          image_np,\n",
    "          np.squeeze(boxes),\n",
    "          np.squeeze(classes).astype(np.int32),\n",
    "          np.squeeze(scores),\n",
    "          category_index,\n",
    "          use_normalized_coordinates=True,\n",
    "          line_thickness=8,\n",
    "          min_score_thresh=0.1)\n",
    "      image = Image.fromarray(image_np, 'RGB')\n",
    "      image.save(image_path.replace('.png', '_bb3.png').replace('.jpeg', '_bb3.jpeg'))\n",
    "     \n",
    "      image.close()\n",
    "      min_score_thresh = 0.1\n",
    "      i=0\n",
    "      pdclass=np.squeeze(classes).astype(np.int32)\n",
    "      boxessq=np.squeeze(boxes)\n",
    "      scoresq=np.squeeze(scores)\n",
    "      bboxes = boxessq[scoresq > min_score_thresh]\n",
    "      img_id = int(image_path.split('/')[-1].split('.')[0][-4:])\n",
    "      print(img_id)\n",
    "      final_box = []\n",
    "      \n",
    "      \n",
    "      for box in bboxes:\n",
    "           \n",
    "        ymin, xmin, ymax, xmax = box\n",
    "        final_box.append([xmin , xmax , ymin , ymax ])\n",
    "        fname_list.append(img_id)\n",
    "        class_list.append(pdclass[i])\n",
    "        xmin_list.append(box[1]* 2560)\n",
    "        ymin_list.append(box[0]*2160)\n",
    "        xmax_list.append(box[3]*2560)\n",
    "        ymax_list.append(box[2]*2160)\n",
    "        i=i+1\n",
    "      \n",
    "    \n",
    "    \n",
    "    df_new = pd.DataFrame(data={\n",
    "          'Filename':fname_list,\n",
    "          'class':class_list,\n",
    "          'xmin':xmin_list,\n",
    "          'ymin':ymin_list,\n",
    "          'xmax':xmax_list,\n",
    "          'ymax':ymax_list, \n",
    "      })\n",
    "new_csv = os.path.join(CSV_BASEDIR, '')\n",
    "df_new.to_csv(new_csv, sep=',',header=False, index=False)  "
   ]
  }
 ],
 "metadata": {
  "kernelspec": {
   "display_name": "Python 3",
   "language": "python",
   "name": "python3"
  },
  "language_info": {
   "codemirror_mode": {
    "name": "ipython",
    "version": 3
   },
   "file_extension": ".py",
   "mimetype": "text/x-python",
   "name": "python",
   "nbconvert_exporter": "python",
   "pygments_lexer": "ipython3",
   "version": "3.5.2"
  }
 },
 "nbformat": 4,
 "nbformat_minor": 4
}
